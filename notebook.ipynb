{
 "cells": [
  {
   "cell_type": "code",
   "execution_count": null,
   "source": [],
   "outputs": [],
   "metadata": {}
  }
 ],
 "metadata": {
  "orig_nbformat": 4,
  "language_info": {
   "name": "python",
   "version": "3.9.5"
  },
  "kernelspec": {
   "name": "python3",
   "display_name": "Python 3.9.5 64-bit ('fpl-linear-optimization-YNXmGGVS': pipenv)"
  },
  "interpreter": {
   "hash": "897a48a519c1592a04de3e0ffd2a22477181b80cf551fd8909541196074f4169"
  }
 },
 "nbformat": 4,
 "nbformat_minor": 2
}